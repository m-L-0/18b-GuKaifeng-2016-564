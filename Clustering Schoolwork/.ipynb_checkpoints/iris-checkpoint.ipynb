{
 "cells": [
  {
   "cell_type": "code",
   "execution_count": 2,
   "metadata": {},
   "outputs": [
    {
     "data": {
      "text/plain": [
       "'\\n姓名:刘佳昌\\n班级：5班\\n学号：2016011565\\n内容：Clustering Schoolwork\\n'"
      ]
     },
     "execution_count": 2,
     "metadata": {},
     "output_type": "execute_result"
    }
   ],
   "source": [
    "'''\n",
    "姓名:刘佳昌\n",
    "班级：5班\n",
    "学号：2016011565\n",
    "内容：Clustering Schoolwork\n",
    "'''   "
   ]
  },
  {
   "cell_type": "code",
   "execution_count": 3,
   "metadata": {},
   "outputs": [
    {
     "data": {
      "image/png": "[encoded data removed]",
      "text/plain": [
       "<Figure size 432x288 with 1 Axes>"
      ]
     },
     "metadata": {},
     "output_type": "display_data"
    }
   ],
   "source": [
    "###1.将鸢尾花数据集画成图的形式\n",
    "## 将数据变为2维，输出到图上\n",
    "import matplotlib.pyplot as plt\n",
    "#加载matplotlib用于数据的可视化\n",
    "from sklearn.decomposition import PCA\n",
    "#加载PCA算法包\n",
    "from sklearn.datasets import load_iris\n",
    "%matplotlib inline\n",
    "#加载鸢尾花数据集导入函数\n",
    "data = load_iris()\n",
    "#以字典形式加载鸢尾花数据集\n",
    "y = data.target #使用y表示数据集中的标签\n",
    "X = data.data #使用X表示数据集中的属性数据\n",
    "def pca_data():    \n",
    "    pca = PCA(n_components=2)\n",
    "    #加载PCA算法，设置降维后主成分数目为2\n",
    "    reduced_X = pca.fit_transform(X)\n",
    "    #对原始数据进行降维，保存在reduced_X中\n",
    "    #print(reduced_X.shape)\n",
    "    return reduced_X\n",
    "def image(reduced_X):\n",
    "    red_x, red_y = [], []\n",
    "    #第一类数据点\n",
    "    blue_x, blue_y = [], []\n",
    "    #第二类数据点\n",
    "    green_x, green_y = [], []\n",
    "    #第三类数据点\n",
    "    for i in range(len(reduced_X)):\n",
    "        if y[i] == 0:\n",
    "            red_x.append(reduced_X[i][0])\n",
    "            red_y.append(reduced_X[i][1])\n",
    "        elif y[i] == 1:\n",
    "            blue_x.append(reduced_X[i][0])\n",
    "            blue_y.append(reduced_X[i][1])\n",
    "        else:\n",
    "            green_x.append(reduced_X[i][0])\n",
    "            green_y.append(reduced_X[i][1])\n",
    "            plt.title(\"iris red:\"+data.target_names[0]+\"  blue:\"+data.target_names[1]+\"  green:\"+data.target_names[2])\n",
    "            plt.scatter(red_x, red_y, c='r', marker='s')\n",
    "            #第一类数据点\n",
    "            plt.scatter(blue_x, blue_y, c='b', marker='p')\n",
    "            #第二类数据点\n",
    "            plt.scatter(green_x, green_y, c='g', marker='x')\n",
    "            #第三类数据点\n",
    "    plt.savefig(\"iris.jpg\")\n",
    "            #保存\n",
    "    plt.show()\n",
    "            #可视化\n",
    "if __name__ =='__main__':\n",
    "    train = pca_data()            \n",
    "    image(train)"
   ]
  },
  {
   "cell_type": "code",
   "execution_count": 4,
   "metadata": {},
   "outputs": [
    {
     "name": "stdout",
     "output_type": "stream",
     "text": [
      "[[0.         0.53851648 0.50990195 ... 4.45982062 4.65080638 4.14004831]\n",
      " [0.53851648 0.         0.3        ... 4.49888875 4.71805044 4.15331193]\n",
      " [0.50990195 0.3        0.         ... 4.66154481 4.84871117 4.29883705]\n",
      " ...\n",
      " [4.45982062 4.49888875 4.66154481 ... 0.         0.6164414  0.64031242]\n",
      " [4.65080638 4.71805044 4.84871117 ... 0.6164414  0.         0.76811457]\n",
      " [4.14004831 4.15331193 4.29883705 ... 0.64031242 0.76811457 0.        ]]\n",
      "[[1.00000000e+00 0.00000000e+00 0.00000000e+00 ... 0.00000000e+00\n",
      "  0.00000000e+00 0.00000000e+00]\n",
      " [0.00000000e+00 1.00000000e+00 1.37115934e-02 ... 0.00000000e+00\n",
      "  0.00000000e+00 0.00000000e+00]\n",
      " [0.00000000e+00 1.37115934e-02 1.00000000e+00 ... 0.00000000e+00\n",
      "  0.00000000e+00 0.00000000e+00]\n",
      " ...\n",
      " [0.00000000e+00 0.00000000e+00 0.00000000e+00 ... 1.00000000e+00\n",
      "  1.48620794e-04 0.00000000e+00]\n",
      " [0.00000000e+00 0.00000000e+00 0.00000000e+00 ... 1.48620794e-04\n",
      "  1.00000000e+00 0.00000000e+00]\n",
      " [0.00000000e+00 0.00000000e+00 0.00000000e+00 ... 0.00000000e+00\n",
      "  0.00000000e+00 1.00000000e+00]]\n"
     ]
    }
   ],
   "source": [
    "##2.确定一个合适的阈值，只有两个样本之间的相似度大于该阈值时，这两个样本之间才有一条边。\n",
    "##3.求取带权邻接矩阵。\n",
    "from sklearn.datasets import load_iris\n",
    "#加载鸢尾花数据集导入函数\n",
    "import numpy as np\n",
    "data = load_iris()\n",
    "#以字典形式加载鸢尾花数据集\n",
    "y = data.target #使用y表示数据集中的标签\n",
    "X = data.data #使用X表示数据集中的属性数据\n",
    "#距离矩阵\n",
    "def M(x1, x2):\n",
    "    res = np.sum((x1-x2)**2)\n",
    "    res = np.sqrt(res)\n",
    "    #print(res)\n",
    "    return res\n",
    "\n",
    "def D(X):\n",
    "    X = np.array(X)\n",
    "    S = np.zeros((len(X), len(X)))\n",
    "    for i in range(150):\n",
    "        for j in range(i+1,150):\n",
    "            S[i][j] = M(X[i], X[j])\n",
    "            S[j][i] = S[i][j]\n",
    "    #print(S)\n",
    "    return S\n",
    "\n",
    "#邻接矩阵\n",
    "def myKNN(S, k, sigma=0.187):\n",
    "    N = len(S)\n",
    "    A = np.zeros((N,N))\n",
    "    for i in range(N):\n",
    "        dist_with_index = zip(S[i], range(N))\n",
    "              \n",
    "        dist_with_index = sorted(dist_with_index, key=lambda x:x[0])#排序\n",
    "        #print(dist_with_index)\n",
    "        neighbours_id = [dist_with_index[m][1] for m in range(k+1)] # xi's k nearest neighbours\n",
    "        #print(neighbours_id)\n",
    "        for j in neighbours_id: # xj is xi's neighbour\n",
    "            A[i][j] = np.exp(-S[i][j]/2/sigma/sigma)\n",
    "            #print(A[i][j])\n",
    "            A[j][i] = A[i][j] # mutually\n",
    "    #print(A)\n",
    "    return A\n",
    "if __name__ =='__main__': \n",
    "    length=D(X)\n",
    "    ## 距离矩阵\n",
    "    print(length)\n",
    "    L=myKNN(length,10)\n",
    "    ## 根据k近邻算法求得邻接矩阵 k=10\n",
    "    print(L)"
   ]
  },
  {
   "cell_type": "code",
   "execution_count": 5,
   "metadata": {},
   "outputs": [
    {
     "name": "stderr",
     "output_type": "stream",
     "text": [
      "D:\\anaconda\\lib\\site-packages\\ipykernel_launcher.py:36: RuntimeWarning: invalid value encountered in double_scalars\n"
     ]
    },
    {
     "ename": "ValueError",
     "evalue": "Input contains NaN, infinity or a value too large for dtype('float64').",
     "output_type": "error",
     "traceback": [
      "\u001b[1;31m---------------------------------------------------------------------------\u001b[0m",
      "\u001b[1;31mValueError\u001b[0m                                Traceback (most recent call last)",
      "\u001b[1;32m<ipython-input-5-32334b68d8b6>\u001b[0m in \u001b[0;36m<module>\u001b[1;34m()\u001b[0m\n\u001b[0;32m     35\u001b[0m         \u001b[1;32mfor\u001b[0m \u001b[0mj\u001b[0m \u001b[1;32min\u001b[0m \u001b[0mrange\u001b[0m\u001b[1;33m(\u001b[0m\u001b[0mlen\u001b[0m\u001b[1;33m(\u001b[0m\u001b[0mH\u001b[0m\u001b[1;33m[\u001b[0m\u001b[0ml\u001b[0m\u001b[1;33m]\u001b[0m\u001b[1;33m)\u001b[0m\u001b[1;33m)\u001b[0m\u001b[1;33m:\u001b[0m\u001b[1;33m\u001b[0m\u001b[0m\n\u001b[0;32m     36\u001b[0m             \u001b[0mH\u001b[0m\u001b[1;33m[\u001b[0m\u001b[0ml\u001b[0m\u001b[1;33m]\u001b[0m\u001b[1;33m[\u001b[0m\u001b[0mj\u001b[0m\u001b[1;33m]\u001b[0m\u001b[1;33m=\u001b[0m\u001b[1;33m(\u001b[0m\u001b[0mH\u001b[0m\u001b[1;33m[\u001b[0m\u001b[0ml\u001b[0m\u001b[1;33m]\u001b[0m\u001b[1;33m[\u001b[0m\u001b[0mj\u001b[0m\u001b[1;33m]\u001b[0m\u001b[1;33m-\u001b[0m\u001b[0mHmin\u001b[0m\u001b[1;33m)\u001b[0m\u001b[1;33m/\u001b[0m\u001b[1;33m(\u001b[0m\u001b[0mHmax\u001b[0m\u001b[1;33m-\u001b[0m\u001b[0mHmin\u001b[0m\u001b[1;33m)\u001b[0m\u001b[1;33m\u001b[0m\u001b[0m\n\u001b[1;32m---> 37\u001b[1;33m     \u001b[0mresult\u001b[0m\u001b[1;33m=\u001b[0m\u001b[0mspKmeans\u001b[0m\u001b[1;33m(\u001b[0m\u001b[0mH\u001b[0m\u001b[1;33m)\u001b[0m\u001b[1;33m\u001b[0m\u001b[0m\n\u001b[0m\u001b[0;32m     38\u001b[0m     \u001b[0mprint\u001b[0m\u001b[1;33m(\u001b[0m\u001b[0mresult\u001b[0m\u001b[1;33m.\u001b[0m\u001b[0mlabels_\u001b[0m\u001b[1;33m)\u001b[0m\u001b[1;33m\u001b[0m\u001b[0m\n",
      "\u001b[1;32m<ipython-input-5-32334b68d8b6>\u001b[0m in \u001b[0;36mspKmeans\u001b[1;34m(H)\u001b[0m\n\u001b[0;32m     15\u001b[0m \u001b[1;31m#K_means\u001b[0m\u001b[1;33m\u001b[0m\u001b[1;33m\u001b[0m\u001b[0m\n\u001b[0;32m     16\u001b[0m \u001b[1;32mdef\u001b[0m \u001b[0mspKmeans\u001b[0m\u001b[1;33m(\u001b[0m\u001b[0mH\u001b[0m\u001b[1;33m)\u001b[0m\u001b[1;33m:\u001b[0m\u001b[1;33m\u001b[0m\u001b[0m\n\u001b[1;32m---> 17\u001b[1;33m     \u001b[0msp_kmeans\u001b[0m \u001b[1;33m=\u001b[0m \u001b[0mKMeans\u001b[0m\u001b[1;33m(\u001b[0m\u001b[0mn_clusters\u001b[0m\u001b[1;33m=\u001b[0m\u001b[1;36m3\u001b[0m\u001b[1;33m,\u001b[0m\u001b[0mn_init\u001b[0m\u001b[1;33m=\u001b[0m\u001b[1;36m13\u001b[0m\u001b[1;33m,\u001b[0m\u001b[0mrandom_state\u001b[0m \u001b[1;33m=\u001b[0m\u001b[1;36m17\u001b[0m\u001b[1;33m)\u001b[0m\u001b[1;33m.\u001b[0m\u001b[0mfit\u001b[0m\u001b[1;33m(\u001b[0m\u001b[0mH\u001b[0m\u001b[1;33m)\u001b[0m\u001b[1;33m\u001b[0m\u001b[0m\n\u001b[0m\u001b[0;32m     18\u001b[0m     \u001b[1;31m#print(sp_kmeans.labels_)\u001b[0m\u001b[1;33m\u001b[0m\u001b[1;33m\u001b[0m\u001b[0m\n\u001b[0;32m     19\u001b[0m     \u001b[1;32mreturn\u001b[0m \u001b[0msp_kmeans\u001b[0m\u001b[1;33m\u001b[0m\u001b[0m\n",
      "\u001b[1;32mD:\\anaconda\\lib\\site-packages\\sklearn\\cluster\\k_means_.py\u001b[0m in \u001b[0;36mfit\u001b[1;34m(self, X, y)\u001b[0m\n\u001b[0;32m    885\u001b[0m         \"\"\"\n\u001b[0;32m    886\u001b[0m         \u001b[0mrandom_state\u001b[0m \u001b[1;33m=\u001b[0m \u001b[0mcheck_random_state\u001b[0m\u001b[1;33m(\u001b[0m\u001b[0mself\u001b[0m\u001b[1;33m.\u001b[0m\u001b[0mrandom_state\u001b[0m\u001b[1;33m)\u001b[0m\u001b[1;33m\u001b[0m\u001b[0m\n\u001b[1;32m--> 887\u001b[1;33m         \u001b[0mX\u001b[0m \u001b[1;33m=\u001b[0m \u001b[0mself\u001b[0m\u001b[1;33m.\u001b[0m\u001b[0m_check_fit_data\u001b[0m\u001b[1;33m(\u001b[0m\u001b[0mX\u001b[0m\u001b[1;33m)\u001b[0m\u001b[1;33m\u001b[0m\u001b[0m\n\u001b[0m\u001b[0;32m    888\u001b[0m \u001b[1;33m\u001b[0m\u001b[0m\n\u001b[0;32m    889\u001b[0m         \u001b[0mself\u001b[0m\u001b[1;33m.\u001b[0m\u001b[0mcluster_centers_\u001b[0m\u001b[1;33m,\u001b[0m \u001b[0mself\u001b[0m\u001b[1;33m.\u001b[0m\u001b[0mlabels_\u001b[0m\u001b[1;33m,\u001b[0m \u001b[0mself\u001b[0m\u001b[1;33m.\u001b[0m\u001b[0minertia_\u001b[0m\u001b[1;33m,\u001b[0m \u001b[0mself\u001b[0m\u001b[1;33m.\u001b[0m\u001b[0mn_iter_\u001b[0m \u001b[1;33m=\u001b[0m\u001b[0;31m \u001b[0m\u001b[0;31m\\\u001b[0m\u001b[1;33m\u001b[0m\u001b[0m\n",
      "\u001b[1;32mD:\\anaconda\\lib\\site-packages\\sklearn\\cluster\\k_means_.py\u001b[0m in \u001b[0;36m_check_fit_data\u001b[1;34m(self, X)\u001b[0m\n\u001b[0;32m    856\u001b[0m     \u001b[1;32mdef\u001b[0m \u001b[0m_check_fit_data\u001b[0m\u001b[1;33m(\u001b[0m\u001b[0mself\u001b[0m\u001b[1;33m,\u001b[0m \u001b[0mX\u001b[0m\u001b[1;33m)\u001b[0m\u001b[1;33m:\u001b[0m\u001b[1;33m\u001b[0m\u001b[0m\n\u001b[0;32m    857\u001b[0m         \u001b[1;34m\"\"\"Verify that the number of samples given is larger than k\"\"\"\u001b[0m\u001b[1;33m\u001b[0m\u001b[0m\n\u001b[1;32m--> 858\u001b[1;33m         \u001b[0mX\u001b[0m \u001b[1;33m=\u001b[0m \u001b[0mcheck_array\u001b[0m\u001b[1;33m(\u001b[0m\u001b[0mX\u001b[0m\u001b[1;33m,\u001b[0m \u001b[0maccept_sparse\u001b[0m\u001b[1;33m=\u001b[0m\u001b[1;34m'csr'\u001b[0m\u001b[1;33m,\u001b[0m \u001b[0mdtype\u001b[0m\u001b[1;33m=\u001b[0m\u001b[1;33m[\u001b[0m\u001b[0mnp\u001b[0m\u001b[1;33m.\u001b[0m\u001b[0mfloat64\u001b[0m\u001b[1;33m,\u001b[0m \u001b[0mnp\u001b[0m\u001b[1;33m.\u001b[0m\u001b[0mfloat32\u001b[0m\u001b[1;33m]\u001b[0m\u001b[1;33m)\u001b[0m\u001b[1;33m\u001b[0m\u001b[0m\n\u001b[0m\u001b[0;32m    859\u001b[0m         \u001b[1;32mif\u001b[0m \u001b[0mX\u001b[0m\u001b[1;33m.\u001b[0m\u001b[0mshape\u001b[0m\u001b[1;33m[\u001b[0m\u001b[1;36m0\u001b[0m\u001b[1;33m]\u001b[0m \u001b[1;33m<\u001b[0m \u001b[0mself\u001b[0m\u001b[1;33m.\u001b[0m\u001b[0mn_clusters\u001b[0m\u001b[1;33m:\u001b[0m\u001b[1;33m\u001b[0m\u001b[0m\n\u001b[0;32m    860\u001b[0m             raise ValueError(\"n_samples=%d should be >= n_clusters=%d\" % (\n",
      "\u001b[1;32mD:\\anaconda\\lib\\site-packages\\sklearn\\utils\\validation.py\u001b[0m in \u001b[0;36mcheck_array\u001b[1;34m(array, accept_sparse, dtype, order, copy, force_all_finite, ensure_2d, allow_nd, ensure_min_samples, ensure_min_features, warn_on_dtype, estimator)\u001b[0m\n\u001b[0;32m    451\u001b[0m                              % (array.ndim, estimator_name))\n\u001b[0;32m    452\u001b[0m         \u001b[1;32mif\u001b[0m \u001b[0mforce_all_finite\u001b[0m\u001b[1;33m:\u001b[0m\u001b[1;33m\u001b[0m\u001b[0m\n\u001b[1;32m--> 453\u001b[1;33m             \u001b[0m_assert_all_finite\u001b[0m\u001b[1;33m(\u001b[0m\u001b[0marray\u001b[0m\u001b[1;33m)\u001b[0m\u001b[1;33m\u001b[0m\u001b[0m\n\u001b[0m\u001b[0;32m    454\u001b[0m \u001b[1;33m\u001b[0m\u001b[0m\n\u001b[0;32m    455\u001b[0m     \u001b[0mshape_repr\u001b[0m \u001b[1;33m=\u001b[0m \u001b[0m_shape_repr\u001b[0m\u001b[1;33m(\u001b[0m\u001b[0marray\u001b[0m\u001b[1;33m.\u001b[0m\u001b[0mshape\u001b[0m\u001b[1;33m)\u001b[0m\u001b[1;33m\u001b[0m\u001b[0m\n",
      "\u001b[1;32mD:\\anaconda\\lib\\site-packages\\sklearn\\utils\\validation.py\u001b[0m in \u001b[0;36m_assert_all_finite\u001b[1;34m(X)\u001b[0m\n\u001b[0;32m     42\u001b[0m             and not np.isfinite(X).all()):\n\u001b[0;32m     43\u001b[0m         raise ValueError(\"Input contains NaN, infinity\"\n\u001b[1;32m---> 44\u001b[1;33m                          \" or a value too large for %r.\" % X.dtype)\n\u001b[0m\u001b[0;32m     45\u001b[0m \u001b[1;33m\u001b[0m\u001b[0m\n\u001b[0;32m     46\u001b[0m \u001b[1;33m\u001b[0m\u001b[0m\n",
      "\u001b[1;31mValueError\u001b[0m: Input contains NaN, infinity or a value too large for dtype('float64')."
     ]
    }
   ],
   "source": [
    "##4.根据邻接矩阵进行聚类。\n",
    "from sklearn.cluster import KMeans\n",
    "## 导入k均值模型\n",
    "## 拉普拉斯矩阵\n",
    "def Lpls(x):\n",
    "    # 度矩阵: D=sum(A)\n",
    "    d = np.sum(x, axis=1)\n",
    "    #print(d)\n",
    "    # 拉普拉斯矩阵: L=D-A\n",
    "    lpls = np.diag(d) - x\n",
    "    #print(lpls)\n",
    "    ## 标准化拉普拉斯矩阵 \n",
    "    sqrtDegreeMatrix = np.diag(1.0 / (d ** (0.5)))\n",
    "    return np.dot(np.dot(sqrtDegreeMatrix, lpls), sqrtDegreeMatrix)\n",
    "#K_means\n",
    "def spKmeans(H):\n",
    "    sp_kmeans = KMeans(n_clusters=3,n_init=13,random_state =17).fit(H)\n",
    "    #print(sp_kmeans.labels_)\n",
    "    return sp_kmeans\n",
    "if __name__ =='__main__':\n",
    "    lpls=Lpls(L)\n",
    "    #print(lpls)\n",
    "    # 求矩阵特征值和特征向量\n",
    "    lam, H = np.linalg.eig(lpls)\n",
    "    lam = np.array(lam,dtype = np.float64)\n",
    "    H=np.array(H,dtype = np.float64)\n",
    "    #排序 选取前9组向量并转置\n",
    "    lam=zip(lam,range(len(lam)))\n",
    "    lam=sorted(lam,key=lambda lam:lam[0])\n",
    "    H=np.vstack([H[:,i]for v,i in lam[:1]]).T\n",
    "    #print(H.shape)\n",
    "    # 矩阵标准化 根据最大值和最小值，减小误差\n",
    "    for l in range(len(H)):\n",
    "        Hmax,Hmin=H[l].max(),H[l].min()\n",
    "        for j in range(len(H[l])):\n",
    "            H[l][j]=(H[l][j]-Hmin)/(Hmax-Hmin)\n",
    "    result=spKmeans(H)\n",
    "    print(result.labels_)"
   ]
  },
  {
   "cell_type": "code",
   "execution_count": 6,
   "metadata": {},
   "outputs": [
    {
     "ename": "NameError",
     "evalue": "name 'result' is not defined",
     "output_type": "error",
     "traceback": [
      "\u001b[1;31m---------------------------------------------------------------------------\u001b[0m",
      "\u001b[1;31mNameError\u001b[0m                                 Traceback (most recent call last)",
      "\u001b[1;32m<ipython-input-6-1d719fc73c9e>\u001b[0m in \u001b[0;36m<module>\u001b[1;34m()\u001b[0m\n\u001b[0;32m      1\u001b[0m \u001b[1;31m##5.将聚类结果可视化，重新转换成图的形式，其中每一个簇应该用一种形状表示，比如分别用圆圈、三角和矩阵表示各个簇。\u001b[0m\u001b[1;33m\u001b[0m\u001b[1;33m\u001b[0m\u001b[0m\n\u001b[1;32m----> 2\u001b[1;33m \u001b[0mlabels\u001b[0m \u001b[1;33m=\u001b[0m \u001b[0mresult\u001b[0m\u001b[1;33m.\u001b[0m\u001b[0mlabels_\u001b[0m\u001b[1;31m#样本点被分配到的簇的索引\u001b[0m\u001b[1;33m\u001b[0m\u001b[0m\n\u001b[0m\u001b[0;32m      3\u001b[0m \u001b[1;31m#画出聚类结果，每一类用一种颜色\u001b[0m\u001b[1;33m\u001b[0m\u001b[1;33m\u001b[0m\u001b[0m\n\u001b[0;32m      4\u001b[0m \u001b[0mcolors\u001b[0m \u001b[1;33m=\u001b[0m \u001b[1;33m[\u001b[0m\u001b[1;34m'b'\u001b[0m\u001b[1;33m,\u001b[0m\u001b[1;34m'g'\u001b[0m\u001b[1;33m,\u001b[0m\u001b[1;34m'r'\u001b[0m\u001b[1;33m]\u001b[0m\u001b[1;33m\u001b[0m\u001b[0m\n\u001b[0;32m      5\u001b[0m \u001b[0mn_clusters\u001b[0m \u001b[1;33m=\u001b[0m \u001b[1;36m3\u001b[0m\u001b[1;33m\u001b[0m\u001b[0m\n",
      "\u001b[1;31mNameError\u001b[0m: name 'result' is not defined"
     ]
    }
   ],
   "source": [
    "##5.将聚类结果可视化，重新转换成图的形式，其中每一个簇应该用一种形状表示，比如分别用圆圈、三角和矩阵表示各个簇。\n",
    "labels = result.labels_#样本点被分配到的簇的索引\n",
    "#画出聚类结果，每一类用一种颜色\n",
    "colors = ['b','g','r']\n",
    "n_clusters = 3\n",
    "for i in range(n_clusters):\n",
    "    index = np.nonzero(labels==i)[0]\n",
    "    x0 = X[index,0]\n",
    "    x1 = X[index,1]\n",
    "    y_i = y[index]\n",
    "    for j in range(len(x0)):\n",
    "        plt.text(x0[j],x1[j],str(int(y_i[j])),color=colors[i],fontdict={'weight': 'bold', 'size': 9})\n",
    "plt.title(\"blue:\"+str(data.target_names[0])+\"  green:\"+str(data.target_names[1])+\"  red:\"+str(data.target_names[2]))\n",
    "plt.axis([4,8.5,1.5,5])\n",
    "plt.savefig(\"result.jpg\")\n",
    "plt.show()\n"
   ]
  },
  {
   "cell_type": "code",
   "execution_count": 7,
   "metadata": {},
   "outputs": [
    {
     "ename": "NameError",
     "evalue": "name 'labels' is not defined",
     "output_type": "error",
     "traceback": [
      "\u001b[1;31m---------------------------------------------------------------------------\u001b[0m",
      "\u001b[1;31mNameError\u001b[0m                                 Traceback (most recent call last)",
      "\u001b[1;32m<ipython-input-7-5db2c325b545>\u001b[0m in \u001b[0;36m<module>\u001b[1;34m()\u001b[0m\n\u001b[0;32m     14\u001b[0m     \u001b[0mprint\u001b[0m\u001b[1;33m(\u001b[0m\u001b[0macc\u001b[0m\u001b[1;33m/\u001b[0m\u001b[1;36m150\u001b[0m\u001b[1;33m*\u001b[0m\u001b[1;36m100\u001b[0m\u001b[1;33m,\u001b[0m\u001b[1;34m\"%\"\u001b[0m\u001b[1;33m)\u001b[0m\u001b[1;33m\u001b[0m\u001b[0m\n\u001b[0;32m     15\u001b[0m \u001b[1;32mif\u001b[0m \u001b[0m__name__\u001b[0m \u001b[1;33m==\u001b[0m \u001b[1;34m'__main__'\u001b[0m\u001b[1;33m:\u001b[0m\u001b[1;33m\u001b[0m\u001b[0m\n\u001b[1;32m---> 16\u001b[1;33m     \u001b[0macc\u001b[0m\u001b[1;33m(\u001b[0m\u001b[0mlabels\u001b[0m\u001b[1;33m)\u001b[0m\u001b[1;33m\u001b[0m\u001b[0m\n\u001b[0m",
      "\u001b[1;31mNameError\u001b[0m: name 'labels' is not defined"
     ]
    }
   ],
   "source": [
    "## 6.正确率\n",
    "def acc(labels):\n",
    "    acc=0\n",
    "    # 矩阵排列为 0 .... 1 .... 2\n",
    "    for i in range(50):\n",
    "        if labels[i]==0:\n",
    "            acc+=1\n",
    "    for i in range(50,100):\n",
    "        if labels[i]==1:\n",
    "            acc+=1\n",
    "    for i in range(100,150):\n",
    "        if labels[i]==2:\n",
    "            acc+=1\n",
    "    print(acc/150*100,\"%\")\n",
    "if __name__ == '__main__':\n",
    "    acc(labels)"
   ]
  },
  {
   "cell_type": "code",
   "execution_count": null,
   "metadata": {},
   "outputs": [],
   "source": []
  }
 ],
 "metadata": {
  "kernelspec": {
   "display_name": "Python 3",
   "language": "python",
   "name": "python3"
  },
  "language_info": {
   "codemirror_mode": {
    "name": "ipython",
    "version": 3
   },
   "file_extension": ".py",
   "mimetype": "text/x-python",
   "name": "python",
   "nbconvert_exporter": "python",
   "pygments_lexer": "ipython3",
   "version": "3.6.5"
  }
 },
 "nbformat": 4,
 "nbformat_minor": 2
}
